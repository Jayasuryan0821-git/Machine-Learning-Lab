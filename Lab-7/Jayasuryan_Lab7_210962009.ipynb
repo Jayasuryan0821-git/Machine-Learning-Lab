{
 "cells": [
  {
   "cell_type": "markdown",
   "metadata": {},
   "source": [
    "1. Create the following data set for two independent variable (X1,X2) and one dependent variable (Y) in CSV.\n",
    "\n",
    "Apply the Logistic Regression to perform the following.\n",
    "a. Calculate the coefficients (B0, B1 and B2).\n",
    "\n",
    "b. Apply the sigmoid function to get the prediction and calculate error.\n",
    "\n",
    "c. From the predicted values calculate the accuracy.\n",
    "\n",
    "d. List the model parameters along with error for every instance of the training data.\n",
    "\n",
    "e. Plot the graph of B1 v/s error and B2 v/s error.\n",
    "\n",
    "f. Use scikit learn model to repeat the above steps and compare the results."
   ]
  },
  {
   "cell_type": "markdown",
   "metadata": {},
   "source": [
    "1a"
   ]
  },
  {
   "cell_type": "code",
   "execution_count": 22,
   "metadata": {},
   "outputs": [],
   "source": [
    "import numpy as np\n",
    "import pandas as pd\n",
    "import matplotlib.pyplot as plt \n",
    "import copy "
   ]
  },
  {
   "cell_type": "code",
   "execution_count": 23,
   "metadata": {},
   "outputs": [],
   "source": [
    "x_train = np.array([[2.781084,2.550537],[1.465489,2.362125],[3.396562,4.400294],[1.38807,1.85022],[3.064072,3.005306],[7.627531,2.759262],[5.332441,2.088627\n",
    "],[6.922597,1.771064],[8.675419,-0.24207],[7.673756,3.508563]])\n",
    "y_train = np.array([0,0,0,0,0,1,1,1,1,1])"
   ]
  },
  {
   "cell_type": "code",
   "execution_count": 24,
   "metadata": {},
   "outputs": [],
   "source": [
    "def sigmoid(z):\n",
    "    g = 1/(1+np.exp(-z))\n",
    "    return g"
   ]
  },
  {
   "cell_type": "code",
   "execution_count": 25,
   "metadata": {},
   "outputs": [
    {
     "data": {
      "image/png": "[encoded data removed]",
      "text/plain": [
       "<Figure size 288x288 with 1 Axes>"
      ]
     },
     "metadata": {
      "needs_background": "light"
     },
     "output_type": "display_data"
    }
   ],
   "source": [
    "fig,ax = plt.subplots(1,1,figsize=(4,4))\n",
    "for i in range(2):\n",
    "    ax.scatter(x_train[y_train == i,0],x_train[y_train == i,1],label=f'class {i}')\n",
    "ax.set_title('Scatter plot')\n",
    "ax.set_xlabel('x1')\n",
    "ax.set_ylabel('x2')\n",
    "ax.legend()\n",
    "plt.show()"
   ]
  },
  {
   "cell_type": "code",
   "execution_count": 26,
   "metadata": {},
   "outputs": [],
   "source": [
    "def compute_error(x,y,w,b):\n",
    "    m = x.shape[0]\n",
    "    cost  = 0.0\n",
    "    for i in range(m):\n",
    "        z_i = np.dot(w,x[i]) + b\n",
    "        f_wb_i = sigmoid(z_i)\n",
    "        cost += -y[i]*np.log(f_wb_i) - (1-y[i])*np.log(1-f_wb_i)\n",
    "    cost = cost/m\n",
    "    return cost"
   ]
  },
  {
   "cell_type": "code",
   "execution_count": 27,
   "metadata": {},
   "outputs": [],
   "source": [
    "def compute_gradient_logistic(x,y,w,b):\n",
    "    m,n = x.shape\n",
    "    dj_dw = np.zeros(n)\n",
    "    dj_db = 0.0\n",
    "    for i in range(m):\n",
    "        f_wb_i = sigmoid(np.dot(x[i],w)+b)\n",
    "        err_i = f_wb_i - y[i]\n",
    "        for j in range(n):\n",
    "            dj_dw[j] = dj_dw[j] + err_i * x_train[i,j]\n",
    "        dj_db = dj_db + err_i\n",
    "    dj_dw = dj_dw/m\n",
    "    dj_db = dj_db/m\n",
    "    return dj_db,dj_dw\n"
   ]
  },
  {
   "cell_type": "code",
   "execution_count": 28,
   "metadata": {},
   "outputs": [],
   "source": [
    "def gradient_descent(x, y, w_in, b_in, alpha, iters):\n",
    "    J_hist = []\n",
    "    w = copy.deepcopy(w_in)\n",
    "    b = b_in\n",
    "    for i in range(iters):\n",
    "        dj_db, dj_dw = compute_gradient_logistic(x, y, w, b)\n",
    "        w, b = w - alpha * dj_dw, b - alpha * dj_db\n",
    "        if i % np.ceil(iters / 10) == 0:\n",
    "            J_hist.append(compute_error(x, y, w, b))\n",
    "            print(f\"Iteration {i:4d}: Cost {J_hist[-1]}\")\n",
    "    return w, b, J_hist\n",
    "\n"
   ]
  },
  {
   "cell_type": "code",
   "execution_count": 29,
   "metadata": {},
   "outputs": [
    {
     "name": "stdout",
     "output_type": "stream",
     "text": [
      "Iteration    0: Cost 0.5899089190774951\n",
      "Iteration 1000: Cost 0.010442415926494874\n",
      "Iteration 2000: Cost 0.005410392831308964\n",
      "Iteration 3000: Cost 0.003670337240731315\n",
      "Iteration 4000: Cost 0.0027837236378305155\n",
      "Iteration 5000: Cost 0.0022450919938389264\n",
      "Iteration 6000: Cost 0.0018827008555337519\n",
      "Iteration 7000: Cost 0.0016219859051612696\n",
      "Iteration 8000: Cost 0.00142530035744113\n",
      "Iteration 9000: Cost 0.001271566837911911\n",
      "\n",
      " Updated paramters: w:[ 3.47127965 -5.09661097], b:-2.010646344089232\n"
     ]
    }
   ],
   "source": [
    "w_tmp,b_tmp,alpha,iters = np.zeros_like(x_train[0]),0.,0.1,10000\n",
    "w_out,b_out,_ = gradient_descent(x_train,y_train,w_tmp,b_tmp,alpha,iters)\n",
    "print(f\"\\n Updated paramters: w:{w_out}, b:{b_out}\")\n"
   ]
  },
  {
   "cell_type": "markdown",
   "metadata": {},
   "source": [
    "1b"
   ]
  },
  {
   "cell_type": "code",
   "execution_count": 30,
   "metadata": {},
   "outputs": [],
   "source": [
    "def predict(x,w,b):\n",
    "    z  = np.dot(x,w) + b\n",
    "    return sigmoid(z) "
   ]
  },
  {
   "cell_type": "code",
   "execution_count": 31,
   "metadata": {},
   "outputs": [
    {
     "name": "stdout",
     "output_type": "stream",
     "text": [
      "Error:0.0011481692222956449\n"
     ]
    }
   ],
   "source": [
    "y_pred = predict(x_train,w_out,b_out)\n",
    "error = compute_error(x_train,y_train,w_out,b_out)\n",
    "print(f\"Error:{error}\")"
   ]
  },
  {
   "cell_type": "markdown",
   "metadata": {},
   "source": [
    "1c"
   ]
  },
  {
   "cell_type": "code",
   "execution_count": 32,
   "metadata": {},
   "outputs": [
    {
     "name": "stdout",
     "output_type": "stream",
     "text": [
      "[4.69841345e-03 1.28127521e-04 3.21777738e-06 1.32884056e-03\n",
      " 1.24016353e-03 9.99969683e-01 9.97142163e-01 9.99997724e-01\n",
      " 1.00000000e+00 9.98825017e-01]\n",
      "Accuracy: 100.00%\n"
     ]
    }
   ],
   "source": [
    "print(y_pred)\n",
    "\n",
    "\n",
    "def calculate_accuracy(y_true, y_pred):\n",
    "\n",
    "    y_pred_binary = np.round(y_pred)\n",
    "\n",
    " \n",
    "    accuracy = np.mean(y_true == y_pred_binary) * 100\n",
    "    return accuracy\n",
    "\n",
    "\n",
    "accuracy = calculate_accuracy(y_train, y_pred)\n",
    "print(f\"Accuracy: {accuracy:.2f}%\")\n"
   ]
  },
  {
   "cell_type": "markdown",
   "metadata": {},
   "source": [
    "1d"
   ]
  },
  {
   "cell_type": "code",
   "execution_count": 33,
   "metadata": {},
   "outputs": [
    {
     "name": "stdout",
     "output_type": "stream",
     "text": [
      "Instance 1:\n",
      "  Model Parameters - B0: -2.010646344089232, B1: 3.4712796540896265, B2: -5.096610974920143\n",
      "  Error: 0.004709485692582837\n",
      "Instance 2:\n",
      "  Model Parameters - B0: -2.010646344089232, B1: 3.4712796540896265, B2: -5.096610974920143\n",
      "  Error: 0.00012813573031483707\n",
      "Instance 3:\n",
      "  Model Parameters - B0: -2.010646344089232, B1: 3.4712796540896265, B2: -5.096610974920143\n",
      "  Error: 3.2177825593817292e-06\n",
      "Instance 4:\n",
      "  Model Parameters - B0: -2.010646344089232, B1: 3.4712796540896265, B2: -5.096610974920143\n",
      "  Error: 0.0013297242508227038\n",
      "Instance 5:\n",
      "  Model Parameters - B0: -2.010646344089232, B1: 3.4712796540896265, B2: -5.096610974920143\n",
      "  Error: 0.0012409331709637944\n",
      "Instance 6:\n",
      "  Model Parameters - B0: -2.010646344089232, B1: 3.4712796540896265, B2: -5.096610974920143\n",
      "  Error: 3.031775649402906e-05\n",
      "Instance 7:\n",
      "  Model Parameters - B0: -2.010646344089232, B1: 3.4712796540896265, B2: -5.096610974920143\n",
      "  Error: 0.0028619283857827284\n",
      "Instance 8:\n",
      "  Model Parameters - B0: -2.010646344089232, B1: 3.4712796540896265, B2: -5.096610974920143\n",
      "  Error: 2.2757504457910174e-06\n",
      "Instance 9:\n",
      "  Model Parameters - B0: -2.010646344089232, B1: 3.4712796540896265, B2: -5.096610974920143\n",
      "  Error: 1.8141044222376704e-13\n",
      "Instance 10:\n",
      "  Model Parameters - B0: -2.010646344089232, B1: 3.4712796540896265, B2: -5.096610974920143\n",
      "  Error: 0.001175673702808934\n"
     ]
    }
   ],
   "source": [
    "def calculate_error_for_instance(x, y, w, b):\n",
    "    z = np.dot(x, w) + b\n",
    "    f_wb = sigmoid(z)\n",
    "    error = -y * np.log(f_wb) - (1 - y) * np.log(1 - f_wb)\n",
    "    return error\n",
    "\n",
    "for i, x_instance in enumerate(x_train):\n",
    "    error_instance = calculate_error_for_instance(x_instance, y_train[i], w_out, b_out)\n",
    "    print(f\"Instance {i + 1}:\")\n",
    "    print(f\"  Model Parameters - B0: {b_out}, B1: {w_out[0]}, B2: {w_out[1]}\")\n",
    "    print(f\"  Error: {error_instance}\")\n"
   ]
  },
  {
   "cell_type": "markdown",
   "metadata": {},
   "source": [
    "1e"
   ]
  },
  {
   "cell_type": "code",
   "execution_count": 37,
   "metadata": {},
   "outputs": [
    {
     "data": {
      "image/png": "[encoded data removed]",
      "text/plain": [
       "<Figure size 864x288 with 2 Axes>"
      ]
     },
     "metadata": {
      "needs_background": "light"
     },
     "output_type": "display_data"
    },
    {
     "name": "stdout",
     "output_type": "stream",
     "text": [
      "Equation: y = -2.471683191257787 + 4.2552277139019035*x1 + -6.264204059895222*x2\n",
      "Predicted values:  [0, 0, 0, 0, 0, 1, 1, 1, 1, 1]\n"
     ]
    }
   ],
   "source": [
    "b1s = []\n",
    "b2s = []\n",
    "errors = []\n",
    "\n",
    "for i in range(iters):\n",
    "    b1s.append(w_out[0])\n",
    "    b2s.append(w_out[1])\n",
    "    errors.append(compute_error(x_train, y_train, w_out, b_out))\n",
    "    dj_db, dj_dw = compute_gradient_logistic(x_train, y_train, w_out, b_out)\n",
    "    w_out = w_out - alpha * dj_dw\n",
    "    b_out = b_out - alpha * dj_db\n",
    "\n",
    "plt.figure(figsize=(12, 4))\n",
    "plt.subplot(1, 2, 1)\n",
    "plt.plot(b1s, errors)\n",
    "plt.title(\"B1 vs Error\")\n",
    "\n",
    "plt.subplot(1, 2, 2)\n",
    "plt.plot(b2s, errors)\n",
    "plt.title(\"B2 vs Error\")\n",
    "\n",
    "accuracy = []\n",
    "for i in range(iters):\n",
    "    output = sigmoid(np.dot(x_train, w_out) + b_out)\n",
    "    predictions = (output >= 0.5).astype(int)\n",
    "    accuracy.append(np.mean(predictions == y_train))\n",
    "\n",
    "\n",
    "\n",
    "plt.show()\n",
    "\n",
    "\n",
    "b0 = b_out\n",
    "b1 = w_out[0]\n",
    "b2 = w_out[1]\n",
    "\n",
    "print(f\"Equation: y = {b0} + {b1}*x1 + {b2}*x2\")\n",
    "\n",
    "npx1, npx2 = np.array(x_train).T\n",
    "npy = b0 + b1 * npx1 + b2 * npx2\n",
    "output = sigmoid(npy)\n",
    "func = lambda x: 0 if x < 0.5 else 1\n",
    "prediction = list(map(func, output))\n",
    "print(\"Predicted values: \", prediction)"
   ]
  },
  {
   "cell_type": "markdown",
   "metadata": {},
   "source": [
    "1f"
   ]
  },
  {
   "cell_type": "code",
   "execution_count": 41,
   "metadata": {},
   "outputs": [
    {
     "name": "stdout",
     "output_type": "stream",
     "text": [
      "Slope:[[ 1.18383416 -0.35803503]]\n",
      "Intercepts:[-4.55163352]\n"
     ]
    }
   ],
   "source": [
    "from sklearn.linear_model import LogisticRegression\n",
    "classifier = LogisticRegression(random_state=0).fit(x_train,y_train)\n",
    "y_pred = classifier.predict(x_train)\n",
    "print(f\"Slope:{classifier.coef_}\\nIntercepts:{classifier.intercept_}\")\n"
   ]
  },
  {
   "cell_type": "markdown",
   "metadata": {},
   "source": [
    "2. Use above data set for one independent variable (X=X1) and one dependent variable (Y) in CSV.\n",
    "\n",
    "Applying Logistic Regression, explore the relationship between independent and dependent variables.\n",
    "\n",
    "a. Calculate the coefficients (B0, and B1).\n",
    "\n",
    "b. Apply the sigmoid function to get the prediction and calculate error.\n",
    "\n",
    "c. From the predicted values calculate the accuracy.\n",
    "\n",
    "d. List the model parameters along with error for every instance of the training data.\n",
    "\n",
    "e. Plot the graph of B1 v/s error.\n",
    "\n",
    "f. Visualize the following binary cross entropy function for logistic regression using the above training data.Plot y=1 and y=0 cases separately, and then plot the combined graph by considering X in X-axis and cost in Y-axis."
   ]
  },
  {
   "cell_type": "markdown",
   "metadata": {},
   "source": [
    "2a"
   ]
  },
  {
   "cell_type": "code",
   "execution_count": 50,
   "metadata": {},
   "outputs": [
    {
     "name": "stdout",
     "output_type": "stream",
     "text": [
      "Iteration    0: Cost 0.6007179812224619\n",
      "Iteration 1000: Cost 0.08726349238054493\n",
      "Iteration 2000: Cost 0.05399321917120423\n",
      "Iteration 3000: Cost 0.04025638393933364\n",
      "Iteration 4000: Cost 0.03242109327257473\n",
      "Iteration 5000: Cost 0.027266530226084405\n",
      "Iteration 6000: Cost 0.023586215118344547\n",
      "Iteration 7000: Cost 0.020813523309983123\n",
      "Iteration 8000: Cost 0.018643233601989488\n",
      "Iteration 9000: Cost 0.016894944807618103\n",
      "\n",
      "Updated parameters: B1: 2.8829080677658205, B0: -12.5659123210753\n"
     ]
    }
   ],
   "source": [
    "import numpy as np\n",
    "import pandas as pd\n",
    "\n",
    "\n",
    "df = pd.read_csv('data.csv')\n",
    "x = np.array(df['X1'])  \n",
    "y = np.array(df['Y'])   \n",
    "\n",
    "\n",
    "def sigmoid(z):\n",
    "    g = 1 / (1 + np.exp(-z))\n",
    "    return g\n",
    "\n",
    "def compute_error(x, y, w, b):\n",
    "    m = x.shape[0]\n",
    "    cost = 0.0\n",
    "    for i in range(m):\n",
    "        z_i = w * x[i] + b\n",
    "        f_wb_i = sigmoid(z_i)\n",
    "        cost += -y[i] * np.log(f_wb_i) - (1 - y[i]) * np.log(1 - f_wb_i)\n",
    "    cost = cost / m\n",
    "    return cost\n",
    "\n",
    "\n",
    "def compute_gradient_logistic(x, y, w, b):\n",
    "    m = x.shape[0]\n",
    "    dj_dw = 0.0\n",
    "    dj_db = 0.0\n",
    "    for i in range(m):\n",
    "        f_wb_i = sigmoid(w * x[i] + b)\n",
    "        err_i = f_wb_i - y[i]\n",
    "        dj_dw += err_i * x[i]\n",
    "        dj_db += err_i\n",
    "    dj_dw = dj_dw / m\n",
    "    dj_db = dj_db / m\n",
    "    return dj_db, dj_dw\n",
    "\n",
    "\n",
    "def gradient_descent(x, y, w_in, b_in, alpha, iters):\n",
    "    J_hist = []\n",
    "    w = w_in\n",
    "    b = b_in\n",
    "    for i in range(iters):\n",
    "        dj_db, dj_dw = compute_gradient_logistic(x, y, w, b)\n",
    "        w = w - alpha * dj_dw\n",
    "        b = b - alpha * dj_db\n",
    "        if i % np.ceil(iters / 10) == 0:\n",
    "            J_hist.append(compute_error(x, y, w, b))\n",
    "            print(f\"Iteration {i:4d}: Cost {J_hist[-1]}\")\n",
    "    return w, b, J_hist\n",
    "\n",
    "\n",
    "w_tmp = 0.0 \n",
    "b_tmp = 0.0  \n",
    "alpha = 0.1  \n",
    "iters = 10000  \n",
    "\n",
    "\n",
    "w_out, b_out, _ = gradient_descent(x, y, w_tmp, b_tmp, alpha, iters)\n",
    "print(f\"\\nUpdated parameters: B1: {w_out}, B0: {b_out}\")\n"
   ]
  },
  {
   "cell_type": "markdown",
   "metadata": {},
   "source": [
    "2b"
   ]
  },
  {
   "cell_type": "code",
   "execution_count": 52,
   "metadata": {},
   "outputs": [
    {
     "name": "stdout",
     "output_type": "stream",
     "text": [
      "Error:0.01545591502183855\n"
     ]
    }
   ],
   "source": [
    "def predict(x,w,b):\n",
    "    z  = np.dot(x,w) + b\n",
    "    return sigmoid(z) \n",
    "y_pred = predict(x_train,w_out,b_out)\n",
    "error = compute_error(x,y,w_out,b_out)\n",
    "print(f\"Error:{error}\")\n"
   ]
  },
  {
   "cell_type": "markdown",
   "metadata": {},
   "source": [
    "2c"
   ]
  },
  {
   "cell_type": "code",
   "execution_count": 65,
   "metadata": {},
   "outputs": [
    {
     "name": "stdout",
     "output_type": "stream",
     "text": [
      "Accuracy: 100.00%\n"
     ]
    }
   ],
   "source": [
    "\n",
    "def predict(x, w, b):\n",
    "    z = w * x + b\n",
    "    return sigmoid(z)\n",
    "\n",
    "predicted_values = predict(x, w_out, b_out)\n",
    "\n",
    "threshold = 0.5\n",
    "binary_predictions = (predicted_values >= threshold).astype(int)\n",
    "\n",
    "accuracy = np.mean(binary_predictions == y)\n",
    "\n",
    "print(f\"Accuracy: {accuracy * 100:.2f}%\")\n"
   ]
  },
  {
   "cell_type": "markdown",
   "metadata": {},
   "source": [
    "2d"
   ]
  },
  {
   "cell_type": "code",
   "execution_count": 69,
   "metadata": {},
   "outputs": [
    {
     "name": "stdout",
     "output_type": "stream",
     "text": [
      "Instance 1: B0=-12.5659, B1=2.8829, Error=0.6931\n",
      "Instance 2: B0=-12.5659, B1=2.8829, Error=0.8750\n",
      "Instance 3: B0=-12.5659, B1=2.8829, Error=0.9247\n",
      "Instance 4: B0=-12.5659, B1=2.8829, Error=0.9405\n",
      "Instance 5: B0=-12.5659, B1=2.8829, Error=0.9440\n",
      "Instance 6: B0=-12.5659, B1=2.8829, Error=0.9423\n",
      "Instance 7: B0=-12.5659, B1=2.8829, Error=0.9383\n",
      "Instance 8: B0=-12.5659, B1=2.8829, Error=0.9333\n",
      "Instance 9: B0=-12.5659, B1=2.8829, Error=0.9279\n",
      "Instance 10: B0=-12.5659, B1=2.8829, Error=0.9223\n",
      "Final Model Parameters: B0=-12.5659, B1=2.8829, Final Error=0.0464\n"
     ]
    }
   ],
   "source": [
    "import numpy as np\n",
    "import pandas as pd\n",
    "\n",
    "\n",
    "def sigmoid(z):\n",
    "    return 1 / (1 + np.exp(-z))\n",
    "\n",
    "\n",
    "def logistic_regression(x, w, b):\n",
    "    return sigmoid(w * x + b)\n",
    "\n",
    "\n",
    "df = pd.read_csv('data.csv')\n",
    "x = np.array(df['X1'])\n",
    "y = np.array(df['Y'])\n",
    "\n",
    "\n",
    "w = 0.0\n",
    "b = 0.0\n",
    "\n",
    "\n",
    "alpha = 0.1\n",
    "iters = 10000\n",
    "\n",
    "\n",
    "def compute_error(y_true, y_pred):\n",
    "    error = - (y_true * np.log(y_pred) + (1 - y_true) * np.log(1 - y_pred))\n",
    "    return error\n",
    "\n",
    "individual_errors = []\n",
    "\n",
    "for i in range(iters):\n",
    "    y_pred = logistic_regression(x, w, b)\n",
    "    error = compute_error(y, y_pred)\n",
    "    \n",
    " \n",
    "    dw = np.sum((y_pred - y) * x) / len(y)\n",
    "    db = np.sum(y_pred - y) / len(y)\n",
    "    w -= alpha * dw\n",
    "    b -= alpha * db\n",
    "    \n",
    "\n",
    "    individual_errors.append(error)\n",
    "\n",
    "\n",
    "for j in range(len(x)):\n",
    "    print(f\"Instance {j + 1}: B0={b:.4f}, B1={w:.4f}, Error={individual_errors[j][0]:.4f}\")\n",
    "\n",
    "final_error = np.mean(individual_errors)\n",
    "\n",
    "print(f\"Final Model Parameters: B0={b:.4f}, B1={w:.4f}, Final Error={final_error:.4f}\")\n"
   ]
  },
  {
   "cell_type": "markdown",
   "metadata": {},
   "source": [
    "2e"
   ]
  },
  {
   "cell_type": "code",
   "execution_count": 70,
   "metadata": {},
   "outputs": [
    {
     "data": {
      "image/png": "[encoded data removed]",
      "text/plain": [
       "<Figure size 720x360 with 1 Axes>"
      ]
     },
     "metadata": {
      "needs_background": "light"
     },
     "output_type": "display_data"
    },
    {
     "name": "stdout",
     "output_type": "stream",
     "text": [
      "Final Model Parameters: B0=-12.5659, B1=2.8829, Final Error=0.0464\n"
     ]
    }
   ],
   "source": [
    "import numpy as np\n",
    "import pandas as pd\n",
    "import matplotlib.pyplot as plt\n",
    "\n",
    "\n",
    "def sigmoid(z):\n",
    "    return 1 / (1 + np.exp(-z))\n",
    "\n",
    "\n",
    "def logistic_regression(x, w, b):\n",
    "    return sigmoid(w * x + b)\n",
    "\n",
    "df = pd.read_csv('data.csv')\n",
    "x = np.array(df['X1'])\n",
    "y = np.array(df['Y'])\n",
    "\n",
    "w = 0.0\n",
    "b = 0.0\n",
    "\n",
    "\n",
    "alpha = 0.1\n",
    "iters = 10000\n",
    "\n",
    "def compute_error(y_true, y_pred):\n",
    "    error = - (y_true * np.log(y_pred) + (1 - y_true) * np.log(1 - y_pred))\n",
    "    return error\n",
    "\n",
    "\n",
    "individual_errors = []\n",
    "b1_values = []\n",
    "\n",
    "\n",
    "for i in range(iters):\n",
    "    y_pred = logistic_regression(x, w, b)\n",
    "    error = compute_error(y, y_pred)\n",
    "    \n",
    "\n",
    "    dw = np.sum((y_pred - y) * x) / len(y)\n",
    "    db = np.sum(y_pred - y) / len(y)\n",
    "    w -= alpha * dw\n",
    "    b -= alpha * db\n",
    "    \n",
    "\n",
    "    individual_errors.append(error)\n",
    "    \n",
    "\n",
    "    b1_values.append(w)\n",
    "\n",
    "# Plot B1 versus error\n",
    "plt.figure(figsize=(10, 5))\n",
    "plt.plot(b1_values, individual_errors)\n",
    "plt.xlabel('B1 (Model Parameter)')\n",
    "plt.ylabel('Error')\n",
    "plt.title('B1 vs. Error')\n",
    "plt.show()\n",
    "\n",
    "final_error = np.mean(individual_errors)\n",
    "\n",
    "print(f\"Final Model Parameters: B0={b:.4f}, B1={w:.4f}, Final Error={final_error:.4f}\")\n"
   ]
  },
  {
   "cell_type": "markdown",
   "metadata": {},
   "source": [
    "2f"
   ]
  },
  {
   "cell_type": "code",
   "execution_count": 71,
   "metadata": {},
   "outputs": [
    {
     "data": {
      "image/png": "[encoded data removed]",
      "text/plain": [
       "<Figure size 864x288 with 2 Axes>"
      ]
     },
     "metadata": {
      "needs_background": "light"
     },
     "output_type": "display_data"
    },
    {
     "data": {
      "image/png": "[encoded data removed]",
      "text/plain": [
       "<Figure size 576x432 with 1 Axes>"
      ]
     },
     "metadata": {
      "needs_background": "light"
     },
     "output_type": "display_data"
    }
   ],
   "source": [
    "import numpy as np\n",
    "import matplotlib.pyplot as plt\n",
    "\n",
    "def sigmoid(z):\n",
    "    return 1 / (1 + np.exp(-z))\n",
    "\n",
    "def binary_cross_entropy(y_true, y_pred):\n",
    "    return -((y_true * np.log(y_pred)) + ((1 - y_true) * np.log(1 - y_pred)))\n",
    "\n",
    "\n",
    "X_range = np.linspace(0, 5, 100)\n",
    "\n",
    "\n",
    "cost_y1 = []\n",
    "cost_y0 = []\n",
    "\n",
    "\n",
    "for X in X_range:\n",
    "\n",
    "    y_true_y1 = 1\n",
    "    y_pred_y1 = sigmoid(X)\n",
    "    cost_y1.append(binary_cross_entropy(y_true_y1, y_pred_y1))\n",
    "    \n",
    "\n",
    "    y_true_y0 = 0\n",
    "    y_pred_y0 = sigmoid(X)\n",
    "    cost_y0.append(binary_cross_entropy(y_true_y0, y_pred_y0))\n",
    "\n",
    "\n",
    "combined_cost = np.array(cost_y1) + np.array(cost_y0)\n",
    "\n",
    "\n",
    "plt.figure(figsize=(12, 4))\n",
    "\n",
    "plt.subplot(1, 2, 1)\n",
    "plt.plot(X_range, cost_y1, label='y=1', color='blue')\n",
    "plt.xlabel('X')\n",
    "plt.ylabel('Cost')\n",
    "plt.title('Binary Cross-Entropy Cost for y=1')\n",
    "plt.legend()\n",
    "\n",
    "plt.subplot(1, 2, 2)\n",
    "plt.plot(X_range, cost_y0, label='y=0', color='red')\n",
    "plt.xlabel('X')\n",
    "plt.ylabel('Cost')\n",
    "plt.title('Binary Cross-Entropy Cost for y=0')\n",
    "plt.legend()\n",
    "\n",
    "plt.tight_layout()\n",
    "\n",
    "plt.figure(figsize=(8, 6))\n",
    "plt.plot(X_range, combined_cost, label='Combined', color='green')\n",
    "plt.xlabel('X')\n",
    "plt.ylabel('Cost')\n",
    "plt.title('Combined Binary Cross-Entropy Cost')\n",
    "plt.legend()\n",
    "plt.show()\n"
   ]
  },
  {
   "cell_type": "markdown",
   "metadata": {},
   "source": [
    "2g"
   ]
  },
  {
   "cell_type": "code",
   "execution_count": 72,
   "metadata": {},
   "outputs": [
    {
     "name": "stdout",
     "output_type": "stream",
     "text": [
      "Model Parameters - B0: -0.3852536086718334, B1: 0.7716146358873378, B2: -1.0562713503622096\n",
      "Accuracy: 100.00%\n"
     ]
    },
    {
     "data": {
      "image/png": "[encoded data removed]",
      "text/plain": [
       "<Figure size 576x432 with 1 Axes>"
      ]
     },
     "metadata": {
      "needs_background": "light"
     },
     "output_type": "display_data"
    }
   ],
   "source": [
    "import numpy as np\n",
    "import pandas as pd\n",
    "import matplotlib.pyplot as plt\n",
    "from sklearn.model_selection import train_test_split\n",
    "from sklearn.linear_model import LogisticRegression\n",
    "from sklearn.metrics import accuracy_score\n",
    "\n",
    "df = pd.read_csv('data.csv')\n",
    "X = np.array(df[['X1', 'X2']])  \n",
    "y = np.array(df['Y'])           \n",
    "\n",
    "\n",
    "X_train, X_test, y_train, y_test = train_test_split(X, y, test_size=0.2, random_state=42)\n",
    "\n",
    "\n",
    "model = LogisticRegression(solver='liblinear', random_state=42)\n",
    "model.fit(X_train, y_train)\n",
    "\n",
    "\n",
    "b1 = model.coef_[0][0]\n",
    "b2 = model.coef_[0][1]\n",
    "b0 = model.intercept_[0]\n",
    "\n",
    "\n",
    "print(f\"Model Parameters - B0: {b0}, B1: {b1}, B2: {b2}\")\n",
    "\n",
    "\n",
    "y_pred = model.predict(X_test)\n",
    "accuracy = accuracy_score(y_test, y_pred)\n",
    "print(f\"Accuracy: {accuracy * 100:.2f}%\")\n",
    "\n",
    "\n",
    "X1_range = np.linspace(X_train[:, 0].min(), X_train[:, 0].max(), 100)\n",
    "errors = []\n",
    "\n",
    "for x1 in X1_range:\n",
    "    X_temp = np.array([[x1, X_train[0][1]]])  \n",
    "    error = -np.mean(y_train * np.log(model.predict_proba(X_temp)[:, 1]) + (1 - y_train) * np.log(1 - model.predict_proba(X_temp)[:, 1]))\n",
    "    errors.append(error)\n",
    "\n",
    "plt.figure(figsize=(8, 6))\n",
    "plt.plot(X1_range, errors, label='B1 vs. Error', color='blue')\n",
    "plt.xlabel('B1 (Coefficient)')\n",
    "plt.ylabel('Error')\n",
    "plt.title('B1 vs. Error')\n",
    "plt.legend()\n",
    "plt.grid()\n",
    "plt.show()\n"
   ]
  },
  {
   "cell_type": "markdown",
   "metadata": {},
   "source": [
    "3. Use the above data set for two independent variable (X1,X2) and one dependent variable (Y) in CSV.\n",
    "Apply the Logistic Regression with SGD to perform the following.\n",
    "\n",
    "a. Calculate the coefficients (B0, B1 and B2) and arrive at different values of B0, B1, B2, and error for 50\n",
    "iterations of 5 epochs.\n",
    "\n",
    "b. Apply the sigmoid function to get the prediction and calculate error.\n",
    "\n",
    "c. From the predicted values calculate the accuracy.\n",
    "\n",
    "d. Plot the graph of epoch (X-axis) v/s Accuracy (Y-axis).\n",
    "\n",
    "f. Use scikit learn model to repeat the above steps and compare the results."
   ]
  },
  {
   "cell_type": "code",
   "execution_count": 79,
   "metadata": {},
   "outputs": [
    {
     "name": "stdout",
     "output_type": "stream",
     "text": [
      "After epoch 50 : b0 = -0.06779638193433425 b1 = 0.23187789021939417 b2 = -0.247055107795964  Error =  0.3054719084174652\n",
      "After epoch 100 : b0 = -0.13007145259797082 b1 = 0.33723823045623713 b2 = -0.43483548763494406  Error =  0.28679761671246096\n",
      "After epoch 150 : b0 = -0.17894877820164246 b1 = 0.4207982565786149 b2 = -0.5718779979436501  Error =  0.26402259731027355\n",
      "After epoch 200 : b0 = -0.21915934827912514 b1 = 0.48852192461750504 b2 = -0.6794773444045387  Error =  0.2442771774512441\n",
      "After epoch 250 : b0 = -0.25325644126653457 b1 = 0.5450367182871507 b2 = -0.7678416313304619  Error =  0.22780701128351277\n",
      "Equation: y = -0.25325644126653457 + 0.5450367182871507 *x1 -0.7678416313304619 *x2\n",
      "[0, 0, 0, 0, 0, 1, 1, 1, 1, 1]\n"
     ]
    },
    {
     "data": {
      "image/png": "[encoded data removed]",
      "text/plain": [
       "<Figure size 720x216 with 3 Axes>"
      ]
     },
     "metadata": {
      "needs_background": "light"
     },
     "output_type": "display_data"
    }
   ],
   "source": [
    "import pandas as pd\n",
    "import numpy as np\n",
    "import matplotlib.pyplot as plt\n",
    "\n",
    "tab = pd.read_csv(\"data.csv\")\n",
    "x1 = tab.iloc[:,:-2]\n",
    "x2 = tab.iloc[:,-2:-1]\n",
    "y = tab.iloc[:,-1]\n",
    "npx1 = np.array(x1)\n",
    "npx2 = np.array(x2)\n",
    "npy = np.array(y)\n",
    "\n",
    "b0,b1,b2 = 0,0,0\n",
    "learning_rate = 0.005\n",
    "\n",
    "def sigmoid(z):\n",
    "    sig = 1/(1+np.exp(-z))\n",
    "    return sig\n",
    "\n",
    "epochs = 250\n",
    "accuracy,b0s,b1s,b2s,errors = [],[],[],[],[]\n",
    "for epoch in range(0,epochs):\n",
    "    correct = 0\n",
    "    for i in range(len(x1)):\n",
    "        output = b0 + b1*npx1[i] + b2*npx2[i]\n",
    "        pred = sigmoid(output)\n",
    "        diff = npy[i] - pred\n",
    "        b0 = b0 + learning_rate * (diff) * pred * (1-pred)\n",
    "        b1 = b1 + learning_rate * (diff) * pred * (1-pred) * npx1[i]\n",
    "        b2 = b2 + learning_rate * (diff) * pred * (1-pred) * npx2[i]\n",
    "        b0,b1,b2 = b0[0],b1[0],b2[0]\n",
    "        if (pred<0.5 and npy[i] == 0) or (pred>=0.5 and npy[i] == 1):\n",
    "            correct += 1\n",
    "    accuracy.append(correct/len(npx1)) \n",
    "    b0s.append(b0)\n",
    "    b1s.append(b1)\n",
    "    b2s.append(b2)\n",
    "    errors.append(diff)\n",
    "    if (epoch+1)%50 == 0:\n",
    "        print(\"After epoch\",epoch+1,\": b0 =\",b0,\"b1 =\",b1,\"b2 =\",b2,\" Error = \",diff[0])\n",
    "\n",
    "plt.figure(figsize = (10,3))\n",
    "plt.subplot(1,3,1)\n",
    "plt.plot(b1s,errors),plt.title(\"B1 vs Error\")\n",
    "plt.subplot(1,3,2)\n",
    "plt.plot(b2s,errors),plt.title(\"B2 vs Error\")\n",
    "\n",
    "plt.subplot(1,3,3)\n",
    "plt.plot(np.arange(250),accuracy)\n",
    "plt.title(\"Accuracy vs Epoch\")\n",
    "print(\"Equation: y =\",b0,\"+\",b1,\"*x1\",b2,\"*x2\")\n",
    "npy = b0 + b1*npx1 + b2*npx2\n",
    "output = sigmoid(npy)\n",
    "func = lambda x: 0 if x<0.5 else 1\n",
    "prediction = list(map(func,output))\n",
    "print(prediction)"
   ]
  }
 ],
 "metadata": {
  "kernelspec": {
   "display_name": "Python 3 (ipykernel)",
   "language": "python",
   "name": "python3"
  },
  "language_info": {
   "codemirror_mode": {
    "name": "ipython",
    "version": 3
   },
   "file_extension": ".py",
   "mimetype": "text/x-python",
   "name": "python",
   "nbconvert_exporter": "python",
   "pygments_lexer": "ipython3",
   "version": "3.10.12"
  }
 },
 "nbformat": 4,
 "nbformat_minor": 2
}
