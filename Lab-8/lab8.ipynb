{
 "cells": [
  {
   "cell_type": "markdown",
   "metadata": {},
   "source": [
    "1. Implement in python of the following problems using Bayes Theorem.\n",
    "\n",
    "a) Of the students in the college, 60% of the students reside in the hostel and 40% of the students are day scholars. \n",
    "Previous year results report that 30% of all students who stay in the hostel scored A Grade and 20% of day scholars scored A grade. \n",
    "At the end of the year, one student is chosen at random and found that he/she has an A grade. What is the probability that the student is a hosteler?\n",
    "\n",
    "b) Suppose you're testing for a rare disease, and you have the following information:\n",
    "\n",
    "• The disease has a prevalence of 0.01 (1% of the population has the disease).\n",
    "\n",
    "• The test is not perfect:\n",
    "\n",
    "• The test correctly identifies the disease (true positive) 99% of the time (sensitivity).\n",
    "\n",
    "• The test incorrectly indicates the disease (false positive) 2% of the time (1 - specificity).\n",
    "\n",
    "Calculate the probability of having the disease given a positive test result using Bayes' theorem."
   ]
  },
  {
   "cell_type": "code",
   "execution_count": 3,
   "metadata": {},
   "outputs": [
    {
     "name": "stdout",
     "output_type": "stream",
     "text": [
      "The probability of student from hostel scoring A:0.6923076923076923\n",
      "Probabilty that test is disease given a positive test result:0.3355932203389831 \n"
     ]
    }
   ],
   "source": [
    "#1a\n",
    "p_hostel,p_day_sch = 0.6,0.4\n",
    "p_scoringA_hostel,p_scoringA_daysch = 0.3,0.2\n",
    "p_hostel_scoringA = (p_scoringA_hostel*p_hostel)/((p_scoringA_daysch*p_day_sch)+(p_scoringA_hostel*p_hostel))\n",
    "print(f\"The probability of student from hostel scoring A:{p_hostel_scoringA}\")\n",
    "\n",
    "#1b\n",
    "p_disease = 0.01\n",
    "p_postest_disease = 0.99\n",
    "p_falsetest_disease = 0.02\n",
    "p_dis_true = (p_postest_disease*p_disease)/((p_postest_disease*p_disease)+(p_falsetest_disease*(1-p_falsetest_disease)))\n",
    "print(f\"Probabilty that test is disease given a positive test result:{p_dis_true}\")\n",
    "\n",
    " "
   ]
  },
  {
   "cell_type": "markdown",
   "metadata": {},
   "source": [
    "2. Write a program to implement the naïve Bayesian classifier without using scikit-learn library for the following sample training data set stored as a .CSV file. Calculate the accuracy, precision, and recall for your train/test data set. To classify ‘If the weather is sunny, then the Player should play or not’?"
   ]
  },
  {
   "cell_type": "code",
   "execution_count": 26,
   "metadata": {},
   "outputs": [
    {
     "name": "stdout",
     "output_type": "stream",
     "text": [
      "Probability of yes:0.7142857142857143\n",
      "Probability of no:0.2857142857142857\n",
      "5 4 5\n",
      "Probability of playing when weather is sunny 0.21428571428571427\n",
      "Accuracy for 'Sunny': 0.35714285714285715\n",
      "Recall for 'Sunny': 0.3\n",
      "Precision for 'Sunny': 0.6\n"
     ]
    }
   ],
   "source": [
    "import numpy as np \n",
    "import pandas as pd \n",
    " \n",
    "df = pd.read_csv('data.csv')\n",
    "count_yes =  df[df['Play'] == 'Yes']['Play'].count()\n",
    "count_no = df[df['Play'] == 'No']['Play'].count()\n",
    "p_yes,p_no = count_yes/len(df),count_no/len(df)\n",
    "print(f\"Probability of yes:{p_yes}\\nProbability of no:{p_no}\")\n",
    "count_sunny,count_rainy,count_overcast = df[df['Outlook'] == 'Sunny']['Outlook'].count(),df[df['Outlook'] == 'Rainy']['Outlook'].count(),df[df['Outlook'] == 'Overcast']['Outlook'].count()\n",
    "count_sunny_yes,count_sunny_no = len(df[(df['Outlook'] == 'Sunny') & (df['Play'] == 'Yes')]), len(df[(df['Outlook'] == 'Sunny') & (df['Play'] == 'No')])\n",
    "count_overcast_yes,count_overcast_no = len(df[(df['Outlook'] == 'Overcast') & (df['Play'] == 'Yes')]),len(df[(df['Outlook'] == 'Overcast') & (df['Play'] == 'No')])\n",
    "count_rainy_yes,count_rainy_no = len(df[(df['Outlook'] == 'Rainy') & (df['Play'] == 'Yes')]),len(df[(df['Outlook'] == 'Rainy') & (df['Play'] == 'No')])\n",
    "p_sunny_yes,p_sunny_no = count_sunny_yes/count_yes, count_sunny_no/count_no\n",
    "p_overcast_yes,p_overcast_no = count_overcast_yes/count_yes, count_overcast_no/count_no\n",
    "p_rainy_yes,p_rainy_no = count_rainy_yes/count_yes, count_rainy_no/count_no \n",
    "p_yes_sunny,p_no_sunny = p_sunny_yes*p_yes,p_sunny_no*p_no\n",
    "p_yes_rainy,p_no_rainy = p_rainy_yes*p_yes,p_rainy_no*p_no\n",
    "p_yes_overcast,p_no_overcast = p_overcast_yes*p_yes,p_overcast_no*p_no\n",
    "if p_yes_sunny > p_no_sunny:\n",
    "    print(f\"Probability of playing when weather is sunny {p_yes_sunny}\")\n",
    "else:\n",
    "    print(f\"Probability of not playing when weather is sunny {p_no_sunny}\")\n",
    "\n",
    "# Calculate TP, FP, TN, FN for 'Sunny'\n",
    "TP_sunny = count_sunny_yes\n",
    "FP_sunny = count_sunny_no\n",
    "TN_sunny = count_rainy + count_overcast - (count_rainy_yes + count_overcast_yes)\n",
    "FN_sunny = count_yes - TP_sunny\n",
    "\n",
    "# Calculate accuracy, recall, and precision for 'Sunny'\n",
    "accuracy_sunny = (TP_sunny + TN_sunny) / len(df)\n",
    "recall_sunny = TP_sunny / (TP_sunny + FN_sunny)\n",
    "precision_sunny = TP_sunny / (TP_sunny + FP_sunny)\n",
    "\n",
    "print(f\"Accuracy for 'Sunny': {accuracy_sunny}\")\n",
    "print(f\"Recall for 'Sunny': {recall_sunny}\")\n",
    "print(f\"Precision for 'Sunny': {precision_sunny}\")\n"
   ]
  }
 ],
 "metadata": {
  "kernelspec": {
   "display_name": "Python 3",
   "language": "python",
   "name": "python3"
  },
  "language_info": {
   "codemirror_mode": {
    "name": "ipython",
    "version": 3
   },
   "file_extension": ".py",
   "mimetype": "text/x-python",
   "name": "python",
   "nbconvert_exporter": "python",
   "pygments_lexer": "ipython3",
   "version": "3.10.11"
  }
 },
 "nbformat": 4,
 "nbformat_minor": 2
}
