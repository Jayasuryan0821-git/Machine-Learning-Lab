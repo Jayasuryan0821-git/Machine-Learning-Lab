{
 "cells": [
  {
   "cell_type": "markdown",
   "metadata": {},
   "source": [
    "Simplified id3 "
   ]
  },
  {
   "cell_type": "code",
   "execution_count": 102,
   "metadata": {},
   "outputs": [
    {
     "name": "stdout",
     "output_type": "stream",
     "text": [
      "Depth: 0, Branch: Root, Split on feature: 3\n",
      "Left Leaf node with indices: [2, 6, 11, 12], Class: 1\n",
      "Depth: 1, Branch: Right, Split on feature: 1\n",
      "Left Leaf node with indices: [0, 1, 3, 7], Class: 0\n",
      "Right Leaf node with indices: [4, 5, 8, 9, 10, 13], Class: 1\n"
     ]
    }
   ],
   "source": [
    "import pandas as pd\n",
    "import numpy as np \n",
    "\n",
    "# Load the data from a CSV file\n",
    "df = pd.read_csv('data.csv')\n",
    "\n",
    "# One-hot encode the 'Outlook' feature and map other categorical features to integers\n",
    "df = pd.get_dummies(df, columns=['Outlook'])\n",
    "df['Decision'] = df['Decision'].map({'No': 0, 'Yes': 1})\n",
    "df['Wind'] = df['Wind'].map({'Weak': 0, 'Strong': 1})\n",
    "\n",
    "# Function to convert temperature to a binary feature\n",
    "def convert_Temp(val):\n",
    "    return 1 if val > 74 else 0\n",
    "    \n",
    "# Function to convert humidity to a binary feature\n",
    "def convert_Humidity(val):\n",
    "    return 1 if val > 80 else 0\n",
    "\n",
    "# Apply the conversion functions\n",
    "df['Humidity'] = df['Humidity'].apply(convert_Humidity)\n",
    "df['Temp'] = df['Temp'].apply(convert_Temp)\n",
    "\n",
    "# Prepare the feature matrix X and the target vector y\n",
    "x = df.drop('Decision', axis=1).values\n",
    "y = df['Decision'].values\n",
    "\n",
    "# Function to compute entropy of a dataset\n",
    "def compute_entropy(y):\n",
    "    entropy = 0\n",
    "    if len(y) > 0:  # Ensure the list is not empty\n",
    "        p1 = np.sum(y == 1) / len(y)\n",
    "        if p1 not in (0, 1):  # Avoid computing log(0)\n",
    "            entropy = -p1 * np.log2(p1) - (1 - p1) * np.log2(1 - p1)\n",
    "    return entropy\n",
    "\n",
    "# Function to split the dataset based on a feature\n",
    "def split_dataset(x, node_indices, feature):\n",
    "    left_indices = [i for i in node_indices if x[i][feature] == 1]\n",
    "    right_indices = [i for i in node_indices if x[i][feature] == 0]\n",
    "    return left_indices, right_indices\n",
    "\n",
    "# Function to compute information gain of a split\n",
    "def compute_information_gain(x, y, node_indices, feature):\n",
    "    left_indices, right_indices = split_dataset(x, node_indices, feature)\n",
    "    node_entropy = compute_entropy(y[node_indices])\n",
    "    left_entropy = compute_entropy(y[left_indices])\n",
    "    right_entropy = compute_entropy(y[right_indices])\n",
    "    w_left = len(left_indices) / len(node_indices)\n",
    "    w_right = len(right_indices) / len(node_indices)\n",
    "    weighted_entropy = w_left * left_entropy + w_right * right_entropy\n",
    "    information_gain = node_entropy - weighted_entropy\n",
    "    return information_gain\n",
    "\n",
    "# Function to find the best feature to split on\n",
    "def get_best_split(x, y, node_indices):\n",
    "    num_features = x.shape[1]\n",
    "    best_feature = None\n",
    "    max_info_gain = -np.inf\n",
    "    for feature in range(num_features):\n",
    "        info_gain = compute_information_gain(x, y, node_indices, feature)\n",
    "        if info_gain > max_info_gain:\n",
    "            max_info_gain = info_gain\n",
    "            best_feature = feature\n",
    "    return best_feature if max_info_gain > 0 else None\n",
    "\n",
    "# Function to build the decision tree\n",
    "def build_tree(x, y, node_indices, branch_name, max_depth, current_depth):\n",
    "    if current_depth == max_depth or not node_indices:\n",
    "        leaf_class = np.argmax(np.bincount(y[node_indices])) if node_indices else 'Undefined'\n",
    "        print(f'{branch_name} Leaf node with indices: {node_indices}, Class: {leaf_class}')\n",
    "        return\n",
    "    best_feature = get_best_split(x, y, node_indices)\n",
    "    if best_feature is None:\n",
    "        leaf_class = np.argmax(np.bincount(y[node_indices]))\n",
    "        print(f'{branch_name} Leaf node with indices: {node_indices}, Class: {leaf_class}')\n",
    "        return\n",
    "    left_indices, right_indices = split_dataset(x, node_indices, best_feature)\n",
    "    print(f\"Depth: {current_depth}, Branch: {branch_name}, Split on feature: {best_feature}\")\n",
    "    build_tree(x, y, left_indices, \"Left\", max_depth, current_depth + 1)\n",
    "    build_tree(x, y, right_indices, \"Right\", max_depth, current_depth + 1)\n",
    "\n",
    "# Initialize the root of the tree and start building\n",
    "root_indices = list(range(len(y)))\n",
    "build_tree(x, y, root_indices, \"Root\", max_depth=2, current_depth=0)\n"
   ]
  }
 ],
 "metadata": {
  "kernelspec": {
   "display_name": "Python 3",
   "language": "python",
   "name": "python3"
  },
  "language_info": {
   "codemirror_mode": {
    "name": "ipython",
    "version": 3
   },
   "file_extension": ".py",
   "mimetype": "text/x-python",
   "name": "python",
   "nbconvert_exporter": "python",
   "pygments_lexer": "ipython3",
   "version": "3.10.11"
  }
 },
 "nbformat": 4,
 "nbformat_minor": 2
}
